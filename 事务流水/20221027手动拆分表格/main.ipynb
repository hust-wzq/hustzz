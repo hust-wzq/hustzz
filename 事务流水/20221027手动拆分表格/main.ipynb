{
 "cells": [
  {
   "cell_type": "code",
   "execution_count": 1,
   "metadata": {},
   "outputs": [],
   "source": [
    "import pandas as pd\n",
    "import easygui as g"
   ]
  },
  {
   "cell_type": "code",
   "execution_count": 2,
   "metadata": {},
   "outputs": [],
   "source": [
    "file = g.fileopenbox(msg='请选择文件', title='文件选择', default='*', filetypes=['*.xlsx', '*.xls'])\n"
   ]
  },
  {
   "cell_type": "code",
   "execution_count": 5,
   "metadata": {},
   "outputs": [],
   "source": [
    "data = pd.read_excel(file, header=1)\n",
    "data.columns = pd.MultiIndex.from_product([['预置奖学金等级导入模板'], data.columns])"
   ]
  },
  {
   "cell_type": "code",
   "execution_count": 12,
   "metadata": {},
   "outputs": [
    {
     "name": "stderr",
     "output_type": "stream",
     "text": [
      "C:\\Users\\yerdon\\AppData\\Local\\Temp/ipykernel_17220/2684723024.py:2: FutureWarning: As the xlwt package is no longer maintained, the xlwt engine will be removed in a future version of pandas. This is the only engine in pandas that supports writing in the xls format. Install openpyxl and write to an xlsx file instead. You can set the option io.excel.xls.writer to 'xlwt' to silence this warning. While this option is deprecated and will also raise a warning, it can be globally set and the warning suppressed.\n",
      "  data[data[('预置奖学金等级导入模板', '院系')] == school].set_index(('预置奖学金等级导入模板', '学号'), drop=False).to_excel(f'{school}.xls')\n",
      "C:\\Users\\yerdon\\AppData\\Local\\Temp/ipykernel_17220/2684723024.py:5: FutureWarning: As the xlwt package is no longer maintained, the xlwt engine will be removed in a future version of pandas. This is the only engine in pandas that supports writing in the xls format. Install openpyxl and write to an xlsx file instead. You can set the option io.excel.xls.writer to 'xlwt' to silence this warning. While this option is deprecated and will also raise a warning, it can be globally set and the warning suppressed.\n",
      "  temp.to_excel(f'{school}.xls', index=False)\n"
     ]
    }
   ],
   "source": [
    "for school in data[('预置奖学金等级导入模板', '院系')].unique():\n",
    "    data[data[('预置奖学金等级导入模板', '院系')] == school].set_index(('预置奖学金等级导入模板', '学号'), drop=False).to_excel(f'{school}.xls')\n",
    "    temp = pd.read_excel(f'{school}.xls', header=None)\n",
    "    temp = pd.concat([temp.iloc[:2, 1:], temp.iloc[3:, 1:]])\n",
    "    temp.to_excel(f'{school}.xls', index=False, header=False)\n",
    "   "
   ]
  }
 ],
 "metadata": {
  "kernelspec": {
   "display_name": "Python 3.9.7 ('base')",
   "language": "python",
   "name": "python3"
  },
  "language_info": {
   "codemirror_mode": {
    "name": "ipython",
    "version": 3
   },
   "file_extension": ".py",
   "mimetype": "text/x-python",
   "name": "python",
   "nbconvert_exporter": "python",
   "pygments_lexer": "ipython3",
   "version": "3.9.7"
  },
  "orig_nbformat": 4,
  "vscode": {
   "interpreter": {
    "hash": "e3ad31fb020e9f5681cd6bbf30568ec2ac2f48c96e24e59f328e6928abe21ca8"
   }
  }
 },
 "nbformat": 4,
 "nbformat_minor": 2
}
