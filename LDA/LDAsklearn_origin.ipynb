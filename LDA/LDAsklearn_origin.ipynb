{
 "cells": [
  {
   "cell_type": "markdown",
   "metadata": {},
   "source": [
    "# sklearn-LDA"
   ]
  },
  {
   "cell_type": "markdown",
   "metadata": {},
   "source": [
    "代码示例：https://mp.weixin.qq.com/s/hMcJtB3Lss1NBalXRTGZlQ （玉树芝兰） <br>\n",
    "可视化：https://blog.csdn.net/qq_39496504/article/details/107125284  <br>\n",
    "sklearn lda参数解读:https://scikit-learn.org/stable/modules/generated/sklearn.decomposition.LatentDirichletAllocation.html\n",
    "<br>中文版参数解读：https://blog.csdn.net/TiffanyRabbit/article/details/76445909\n",
    "<br>LDA原理-视频版：https://www.bilibili.com/video/BV1t54y127U8\n",
    "<br>LDA原理-文字版：https://www.jianshu.com/p/5c510694c07e\n",
    "<br>score的计算方法：https://github.com/scikit-learn/scikit-learn/blob/844b4be24d20fc42cc13b957374c718956a0db39/sklearn/decomposition/_lda.py#L729\n",
    "<br>主题困惑度1：https://blog.csdn.net/weixin_43343486/article/details/109255165\n",
    "<br>主题困惑度2：https://blog.csdn.net/weixin_39676021/article/details/112187210"
   ]
  },
  {
   "cell_type": "markdown",
   "metadata": {},
   "source": [
    "## 0.导包"
   ]
  },
  {
   "cell_type": "code",
   "execution_count": 33,
   "metadata": {},
   "outputs": [],
   "source": [
    "import pandas as pd\n",
    "import re\n",
    "import jieba\n",
    "import jieba.posseg as psg\n",
    "import numpy as np\n",
    "from sklearn.feature_extraction.text import TfidfVectorizer, CountVectorizer\n",
    "from sklearn.decomposition import LatentDirichletAllocation\n",
    "import pyLDAvis\n",
    "import pyLDAvis.sklearn"
   ]
  },
  {
   "cell_type": "markdown",
   "metadata": {},
   "source": [
    "## 1.预处理"
   ]
  },
  {
   "cell_type": "code",
   "execution_count": 34,
   "metadata": {},
   "outputs": [],
   "source": [
    "class Prepare:\n",
    "    def __init__(self):\n",
    "        # 读专有名词和禁止词的词典\n",
    "        ## 专有名词\n",
    "        jieba.load_userdict(r\"C:\\Users\\yerdon\\hustzz\\hustzz\\LDA\\stop_dic\\dict.txt\")   # 专有词汇词典\n",
    "        jieba.initialize()\n",
    "\n",
    "        ## 禁止词\n",
    "        try:\n",
    "            stopword_list = open(r\"C:\\Users\\yerdon\\hustzz\\hustzz\\LDA\\stop_dic\\stopwords.txt\", encoding ='utf-8')     # 禁止词（没必要被分析的）\n",
    "            self.stop_list = []\n",
    "            for stopword in stopword_list:\n",
    "                self.stop_list.append(re.sub(u'\\n|\\\\r', '', stopword))\n",
    "        except:\n",
    "            stopword_list = []\n",
    "            print(\"检查禁止词文件的格式\")\n",
    "        \n",
    "    \n",
    "    def chinese_word_cut(self, mytext):\n",
    "        \"\"\"\n",
    "        输入文本，返回被拆分好的文本\n",
    "        @mytext: 从data表格的每一个格子里面输入的被分析的文本\n",
    "        \"\"\"\n",
    "        word_list = []\n",
    "        # jieba分词\n",
    "        for seg_word in psg.cut(mytext):\n",
    "            word = re.sub(u'[^\\u4e00-\\u9fa5]', '', seg_word.word)       # 用正则表达式挑选中文词汇\n",
    "            # 三重条件筛选词汇，其一长度需要大于等于2，其二须是名词、专有名词或动名词，其三，不在禁止词之列\n",
    "            if len(word) >= 2 and seg_word.flag in ['n', 'nz', 'vn'] and not word in self.stop_list:\n",
    "                word_list.append(word)\n",
    "        return (\" \").join(word_list)\n",
    "    \n",
    "    @staticmethod\n",
    "    def get_tf(data_serie, n_features=1000):\n",
    "        \"\"\"input cutted words and n_features, return tf\n",
    "\n",
    "        Args:\n",
    "            data_serie (pd.series): refer to data['content_cutted'], actually. \n",
    "            n_features (int, optional): Total amount of featured words, according to volume of texts. Defaults to 1000.\n",
    "\n",
    "        Returns:\n",
    "            tf: used for lda\n",
    "        \"\"\"\n",
    "        tf_vectorizer = CountVectorizer(strip_accents = 'unicode',\n",
    "                                        max_features=n_features,\n",
    "                                        stop_words='english',\n",
    "                                        max_df = 0.5,\n",
    "                                        min_df = 10)\n",
    "        return [tf_vectorizer, tf_vectorizer.fit_transform(data_serie)]\n",
    "    \n",
    "    def main(self):\n",
    "        data = pd.read_excel(r'C:\\Users\\yerdon\\hustzz\\hustzz\\LDA\\data\\data.xls')     # 数据\n",
    "        data[\"content_cutted\"] = data['content'].apply(self.chinese_word_cut)\n",
    "        print(data)\n",
    "        return data"
   ]
  },
  {
   "cell_type": "markdown",
   "metadata": {},
   "source": [
    "## 2.应该先算困惑度"
   ]
  },
  {
   "cell_type": "code",
   "execution_count": 35,
   "metadata": {},
   "outputs": [],
   "source": [
    "class Perplexity:\n",
    "    def __init__(self, n_features=1000):\n",
    "        pre = Prepare()\n",
    "        self.data = pre.main()\n",
    "        self.tf = Prepare.get_tf(self.data['content_cutted'], n_features)[1]\n",
    "        \n",
    "    def get_min_plx(self):\n",
    "        plx = []\n",
    "        for i in range(1, 50):\n",
    "            lda = LatentDirichletAllocation(n_components=i, max_iter=50,\n",
    "                                learning_method='batch',\n",
    "                                learning_offset=50,random_state=0)\n",
    "            lda.fit(self.tf)\n",
    "            plx.append(lda.perplexity(self.tf))\n",
    "        \n",
    "        return plx.index(min(plx)) + 1      # 返回困惑度最小的主题数量   "
   ]
  },
  {
   "cell_type": "markdown",
   "metadata": {},
   "source": [
    "## 3.LDA分析"
   ]
  },
  {
   "cell_type": "code",
   "execution_count": 36,
   "metadata": {},
   "outputs": [],
   "source": [
    "class LDA:\n",
    "    def __init__(self, n_features=1000):\n",
    "        \"\"\"training model with the given amounts of topics and featured words\n",
    "\n",
    "        Args:\n",
    "            n_topics (int, optional): Total amount of topics, according to complexity. Defaults to 8.\n",
    "            n_features (int, optional): Total amount of featured words, according to volume of texts. Defaults to 1000.\n",
    "        \"\"\"\n",
    "        pre = Prepare()\n",
    "        plx = Perplexity()\n",
    "        n_topics = plx.get_min_plx()\n",
    "        self.data = pre.main()\n",
    "        self.lda = LatentDirichletAllocation(n_components=n_topics, max_iter=50,\n",
    "                                    learning_method='batch',\n",
    "                                    learning_offset=50,\n",
    "                                    # doc_topic_prior=0.1,\n",
    "                                    # topic_word_prior=0.01,\n",
    "                                    random_state=0)\n",
    "        self.tf = Prepare.get_tf(self.data['content_cutted'], n_features)[1]\n",
    "        self.tf_vectorizer = Prepare.get_tf(self.data['content_cutted'], n_features)[0]\n",
    "        self.lda.fit(self.tf)\n",
    "        \n",
    "        pyLDAvis.enable_notebook()\n",
    "        pic = pyLDAvis.sklearn.prepare(self.lda, self.tf, self.tf_vectorizer)\n",
    "        pyLDAvis.save_html(pic, 'lda_pass'+ str(n_topics)+'.html')\n",
    "\n",
    "\n",
    "    def get_topic(self):\n",
    "        topics = self.lda.transform(self.tf)\n",
    "        \n",
    "        topic = []\n",
    "        for t in topics:\n",
    "            topic.append(\"Topic #\" + str(list(t).index(np.max(t))))\n",
    "        self.data['概率最大的主题序号'] = topic\n",
    "        # self.data['每个主题对应概率'] = list(topics)\n",
    "        self.data.to_excel(r'C:\\Users\\yerdon\\hustzz\\hustzz\\LDA\\res\\data.xls', index=False)\n",
    "        "
   ]
  },
  {
   "cell_type": "code",
   "execution_count": 37,
   "metadata": {},
   "outputs": [
    {
     "name": "stdout",
     "output_type": "stream",
     "text": [
      "                                              content  \\\n",
      "0   省人民政府关于促进大数据云计算人工智能创新发展加快建设数字贵州的意见\\n各市、自治州人民政府...   \n",
      "1   广西推进数字政府建设三年行动计划\\n（2018—2020年）\\n根据《中共广西壮族自治区委员...   \n",
      "2   广东省“数字政府”建设总体规划\\n（2018-2020年）实施方案\\n\\n为贯彻落实我省“数...   \n",
      "3   浙江省深化“最多跑一次”改革推进政府数字化转型工作总体方案\\n\\n为深入贯彻落实《浙江省深化...   \n",
      "4   山东省数字政府建设实施方案（2019-2022年）为深入贯彻落实《数字山东发展规划（2018...   \n",
      "5   山西省加快数字政府建设实施方案，为深入贯彻落实党中央、国务院关于加快数字中国建设的决策部署,...   \n",
      "6   河北省数字经济发展规划\\n（2020-2025年）\\n　　数字经济是继农业经济、工业经济之后...   \n",
      "7   湖北省数字政府建设总体规划（2020-2022年）\\n数字政府建设是落实网络强国战略、加快建...   \n",
      "8   安徽省“数字政府”建设规划（2020—2025年）“数字政府”建设是以新一代信息技术为支撑，...   \n",
      "9   推动电子信息产业和数字政府建设促进“数字吉林”快速发展工作方案（2020—2025年）\\n按...   \n",
      "10  河南省数字政府建设总体规划（2020—2022年）\\n为贯彻落实党中央、国务院关于加快推进“...   \n",
      "11  为加快推动“十四五”时期北京智慧城市发展，依据《北京城市总体规划(2016年—2035年)》...   \n",
      "12  宁夏回族自治区数字政府建设行动计划（2021年-2023年）\\n \\n为贯彻落实习近平总书记...   \n",
      "13  天津市推进智慧城市建设行动计划（2015—2017年）智慧城市是当今世界城市发展的新趋势，是...   \n",
      "14  江苏省“十四五”数字政府建设规划\\n \\n党的十九届五中全会明确要求“加快数字社会、数字政府...   \n",
      "15  数字政府建设以新一代信息技术为支撑，通过数据驱动政务信息化管理架构、业务架构和技术架构重塑，...   \n",
      "16  上海市全面推进城市数字化转型“十四五”规划\\n  全面推进城市数字化转型，是践行“人民城市人...   \n",
      "17  重庆市数字经济“十四五”发展规划（2021—2025年）\\n为加快打造“智造重镇”、建设“智...   \n",
      "18  甘肃省数字政府建设总体规划（2021—2025）\\n\\n数字政府是以新一代信息技术为支撑，通...   \n",
      "19  黑龙江省“十四五”数字政府建设规划\\n\\n　　党的十八大以来，习近平总书记就加快发展电子政务...   \n",
      "20  湖南省“十四五”\\n数字政府建设实施方案\\n\\n为贯彻落实《湖南省“十四五”数字政府建设规划...   \n",
      "21  为深入贯彻落实党中央、国务院关于加快数字化发展、推进网络强国建设、加快建设数字中国的决策部署...   \n",
      "22  江西省数字政府建设三年行动计划\\n（2022-2024年）\\n为贯彻落实党中央、国务院关于建...   \n",
      "\n",
      "                                       content_cutted  \n",
      "0   大数据 云计算 人工智能 发展 建设 数字 意见 特区 省政府 部门 直属机构 精神 总书记...  \n",
      "1   数字政府 建设 行动计划 委员会 大数据 战略 数字 建设 意见 精神 协同 数字政府 政府...  \n",
      "2   数字政府 建设 总体规划 实施方案 数字政府 建设 总体规划 数字政府 改革 建设 实施方案...  \n",
      "3   改革 政府 数字化 转型 工作 总体方案 改革 政府职能 改革 行动计划 数字 建设 实施方...  \n",
      "4   数字政府 建设 实施方案 数字 发展 规划 高标准 建设 数字政府 政府 体系 能力 现代化...  \n",
      "5   数字政府 建设 实施方案 数字 建设 决策 部署 数字政府 建设 政府 体系 能力 现代化 ...  \n",
      "6   数字经济 发展 规划 数字经济 农业 经济 工业 经济 经济 形态 数据 资源 生产 要素 ...  \n",
      "7   数字政府 建设 总体规划 数字政府 建设 网络 强国 战略 建设 数字 政府 体系 能力 现...  \n",
      "8   数字政府 建设 规划 数字政府 建设 信息技术 数据 驱动 政务 信息化 管理 架构 业务 ...  \n",
      "9   电子 信息产业 数字政府 建设 数字 发展 工作 方案 办公厅 印发 部署 产业链 供应链 ...  \n",
      "10  数字政府 建设 总体规划 互联网 政务服务 决策 部署 政务服务 数字化 转型 改革 着力 ...  \n",
      "11  时期 发展 总体规划 助推 建设 情况 纲要 指导思想 时代 特色 社会主义 思想 指导 精...  \n",
      "12  数字政府 建设 行动计划 总书记 网络 强国 数字 战略思想 全区 数字政府 建设 体系 能...  \n",
      "13  建设 行动计划 发展 趋势 物联网 云计算 大数据 空间 地理信息 信息技术 城市规划 建设...  \n",
      "14  数字政府 建设 规划 数字 社会 数字政府 建设 公共服务 社会 数字化 水平 国民经济 社...  \n",
      "15  数字政府 建设 信息技术 数据 驱动 政务 信息化 管理 架构 业务 架构 技术 架构 重塑...  \n",
      "16  数字化 转型 规划 数字化 转型 人民 人民 人民 人民 理念 竞争力 实力 关键 国民经济...  \n",
      "17  数字经济 发展 规划 智造 建设 名城 数字经济 发展 活力 数字经济 发展 优势 全市 高...  \n",
      "18  数字政府 建设 总体规划 数字政府 信息技术 重塑 电子政务 融合 智能 技术 架构 政府 ...  \n",
      "19  数字政府 建设 规划 总书记 发展 电子政务 信息化 国家 体系 能力 现代化 数字 社会 ...  \n",
      "20  数字政府 建设 实施方案 数字政府 建设 规划 政府 数字化 转型 助力 三高四新 战略 定...  \n",
      "21  数字化 发展 网络 强国 建设 建设 数字 决策 部署 新一轮 科技 革命 产业 变革 机遇...  \n",
      "22  数字政府 建设 行动计划 建设 网络 强国 数字 社会 战略部署 政府 管理 社会 模式 政...  \n",
      "                                              content  \\\n",
      "0   省人民政府关于促进大数据云计算人工智能创新发展加快建设数字贵州的意见\\n各市、自治州人民政府...   \n",
      "1   广西推进数字政府建设三年行动计划\\n（2018—2020年）\\n根据《中共广西壮族自治区委员...   \n",
      "2   广东省“数字政府”建设总体规划\\n（2018-2020年）实施方案\\n\\n为贯彻落实我省“数...   \n",
      "3   浙江省深化“最多跑一次”改革推进政府数字化转型工作总体方案\\n\\n为深入贯彻落实《浙江省深化...   \n",
      "4   山东省数字政府建设实施方案（2019-2022年）为深入贯彻落实《数字山东发展规划（2018...   \n",
      "5   山西省加快数字政府建设实施方案，为深入贯彻落实党中央、国务院关于加快数字中国建设的决策部署,...   \n",
      "6   河北省数字经济发展规划\\n（2020-2025年）\\n　　数字经济是继农业经济、工业经济之后...   \n",
      "7   湖北省数字政府建设总体规划（2020-2022年）\\n数字政府建设是落实网络强国战略、加快建...   \n",
      "8   安徽省“数字政府”建设规划（2020—2025年）“数字政府”建设是以新一代信息技术为支撑，...   \n",
      "9   推动电子信息产业和数字政府建设促进“数字吉林”快速发展工作方案（2020—2025年）\\n按...   \n",
      "10  河南省数字政府建设总体规划（2020—2022年）\\n为贯彻落实党中央、国务院关于加快推进“...   \n",
      "11  为加快推动“十四五”时期北京智慧城市发展，依据《北京城市总体规划(2016年—2035年)》...   \n",
      "12  宁夏回族自治区数字政府建设行动计划（2021年-2023年）\\n \\n为贯彻落实习近平总书记...   \n",
      "13  天津市推进智慧城市建设行动计划（2015—2017年）智慧城市是当今世界城市发展的新趋势，是...   \n",
      "14  江苏省“十四五”数字政府建设规划\\n \\n党的十九届五中全会明确要求“加快数字社会、数字政府...   \n",
      "15  数字政府建设以新一代信息技术为支撑，通过数据驱动政务信息化管理架构、业务架构和技术架构重塑，...   \n",
      "16  上海市全面推进城市数字化转型“十四五”规划\\n  全面推进城市数字化转型，是践行“人民城市人...   \n",
      "17  重庆市数字经济“十四五”发展规划（2021—2025年）\\n为加快打造“智造重镇”、建设“智...   \n",
      "18  甘肃省数字政府建设总体规划（2021—2025）\\n\\n数字政府是以新一代信息技术为支撑，通...   \n",
      "19  黑龙江省“十四五”数字政府建设规划\\n\\n　　党的十八大以来，习近平总书记就加快发展电子政务...   \n",
      "20  湖南省“十四五”\\n数字政府建设实施方案\\n\\n为贯彻落实《湖南省“十四五”数字政府建设规划...   \n",
      "21  为深入贯彻落实党中央、国务院关于加快数字化发展、推进网络强国建设、加快建设数字中国的决策部署...   \n",
      "22  江西省数字政府建设三年行动计划\\n（2022-2024年）\\n为贯彻落实党中央、国务院关于建...   \n",
      "\n",
      "                                       content_cutted  \n",
      "0   大数据 云计算 人工智能 发展 建设 数字 意见 特区 省政府 部门 直属机构 精神 总书记...  \n",
      "1   数字政府 建设 行动计划 委员会 大数据 战略 数字 建设 意见 精神 协同 数字政府 政府...  \n",
      "2   数字政府 建设 总体规划 实施方案 数字政府 建设 总体规划 数字政府 改革 建设 实施方案...  \n",
      "3   改革 政府 数字化 转型 工作 总体方案 改革 政府职能 改革 行动计划 数字 建设 实施方...  \n",
      "4   数字政府 建设 实施方案 数字 发展 规划 高标准 建设 数字政府 政府 体系 能力 现代化...  \n",
      "5   数字政府 建设 实施方案 数字 建设 决策 部署 数字政府 建设 政府 体系 能力 现代化 ...  \n",
      "6   数字经济 发展 规划 数字经济 农业 经济 工业 经济 经济 形态 数据 资源 生产 要素 ...  \n",
      "7   数字政府 建设 总体规划 数字政府 建设 网络 强国 战略 建设 数字 政府 体系 能力 现...  \n",
      "8   数字政府 建设 规划 数字政府 建设 信息技术 数据 驱动 政务 信息化 管理 架构 业务 ...  \n",
      "9   电子 信息产业 数字政府 建设 数字 发展 工作 方案 办公厅 印发 部署 产业链 供应链 ...  \n",
      "10  数字政府 建设 总体规划 互联网 政务服务 决策 部署 政务服务 数字化 转型 改革 着力 ...  \n",
      "11  时期 发展 总体规划 助推 建设 情况 纲要 指导思想 时代 特色 社会主义 思想 指导 精...  \n",
      "12  数字政府 建设 行动计划 总书记 网络 强国 数字 战略思想 全区 数字政府 建设 体系 能...  \n",
      "13  建设 行动计划 发展 趋势 物联网 云计算 大数据 空间 地理信息 信息技术 城市规划 建设...  \n",
      "14  数字政府 建设 规划 数字 社会 数字政府 建设 公共服务 社会 数字化 水平 国民经济 社...  \n",
      "15  数字政府 建设 信息技术 数据 驱动 政务 信息化 管理 架构 业务 架构 技术 架构 重塑...  \n",
      "16  数字化 转型 规划 数字化 转型 人民 人民 人民 人民 理念 竞争力 实力 关键 国民经济...  \n",
      "17  数字经济 发展 规划 智造 建设 名城 数字经济 发展 活力 数字经济 发展 优势 全市 高...  \n",
      "18  数字政府 建设 总体规划 数字政府 信息技术 重塑 电子政务 融合 智能 技术 架构 政府 ...  \n",
      "19  数字政府 建设 规划 总书记 发展 电子政务 信息化 国家 体系 能力 现代化 数字 社会 ...  \n",
      "20  数字政府 建设 实施方案 数字政府 建设 规划 政府 数字化 转型 助力 三高四新 战略 定...  \n",
      "21  数字化 发展 网络 强国 建设 建设 数字 决策 部署 新一轮 科技 革命 产业 变革 机遇...  \n",
      "22  数字政府 建设 行动计划 建设 网络 强国 数字 社会 战略部署 政府 管理 社会 模式 政...  \n"
     ]
    },
    {
     "name": "stderr",
     "output_type": "stream",
     "text": [
      "d:\\Conda\\Anaconda\\lib\\site-packages\\pyLDAvis\\_prepare.py:246: FutureWarning: In a future version of pandas all arguments of DataFrame.drop except for the argument 'labels' will be keyword-only\n",
      "  default_term_info = default_term_info.sort_values(\n"
     ]
    },
    {
     "data": {
      "text/plain": [
       "<__main__.LDA at 0x16d002db2e0>"
      ]
     },
     "execution_count": 37,
     "metadata": {},
     "output_type": "execute_result"
    }
   ],
   "source": [
    "LDA()"
   ]
  }
 ],
 "metadata": {
  "kernelspec": {
   "display_name": "Python 3.9.7 ('base')",
   "language": "python",
   "name": "python3"
  },
  "language_info": {
   "codemirror_mode": {
    "name": "ipython",
    "version": 3
   },
   "file_extension": ".py",
   "mimetype": "text/x-python",
   "name": "python",
   "nbconvert_exporter": "python",
   "pygments_lexer": "ipython3",
   "version": "3.9.7"
  },
  "toc": {
   "base_numbering": 1,
   "nav_menu": {},
   "number_sections": true,
   "sideBar": true,
   "skip_h1_title": false,
   "title_cell": "Table of Contents",
   "title_sidebar": "Contents",
   "toc_cell": false,
   "toc_position": {
    "height": "303.324px",
    "left": "114px",
    "top": "110.322px",
    "width": "165px"
   },
   "toc_section_display": true,
   "toc_window_display": true
  },
  "vscode": {
   "interpreter": {
    "hash": "e3ad31fb020e9f5681cd6bbf30568ec2ac2f48c96e24e59f328e6928abe21ca8"
   }
  }
 },
 "nbformat": 4,
 "nbformat_minor": 2
}
